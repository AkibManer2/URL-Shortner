{
  "nbformat": 4,
  "nbformat_minor": 0,
  "metadata": {
    "colab": {
      "provenance": [],
      "authorship_tag": "ABX9TyNO5gdomGMblyxrW7YB9Deh",
      "include_colab_link": true
    },
    "kernelspec": {
      "name": "python3",
      "display_name": "Python 3"
    },
    "language_info": {
      "name": "python"
    }
  },
  "cells": [
    {
      "cell_type": "markdown",
      "metadata": {
        "id": "view-in-github",
        "colab_type": "text"
      },
      "source": [
        "<a href=\"https://colab.research.google.com/github/AkibManer2/URL-Shortner/blob/main/URL_SHORTNER.ipynb\" target=\"_parent\"><img src=\"https://colab.research.google.com/assets/colab-badge.svg\" alt=\"Open In Colab\"/></a>"
      ]
    },
    {
      "cell_type": "code",
      "source": [
        "import requests"
      ],
      "metadata": {
        "id": "nV5bEHxim_jt"
      },
      "execution_count": 19,
      "outputs": []
    },
    {
      "cell_type": "code",
      "execution_count": 20,
      "metadata": {
        "id": "p1B6g1pWmRte"
      },
      "outputs": [],
      "source": [
        "from textwrap import shorten\n",
        "def short_lnk(full_link,link_name):\n",
        "  API_KEY='b9d0420c42f89414887dacffb4f69ecde72bd'\n",
        "  BASE_URL='https://cutt.ly/api/api.php'\n",
        "\n",
        "  payload = {'key': API_KEY , 'short': full_link , 'name': link_name}\n",
        "  request= requests.get(BASE_URL, params=payload)\n",
        "  data= request.json()\n",
        "\n",
        "\n",
        "\n",
        "\n",
        "  print('')\n",
        "\n",
        "  try:\n",
        "    title= data['url']['title']\n",
        "    shorten_link= data['url']['shortLink']\n",
        "\n",
        "    print('Title: ', title)\n",
        "    print('Link: ', shorten_link)\n",
        "\n",
        "  except:\n",
        "    status = data['url']['status']\n",
        "    print('!!Error status: ', status)\n"
      ]
    },
    {
      "cell_type": "code",
      "source": [
        "url=input('Enter the URL: ')\n",
        "\n",
        "url_nm=input('Enter the name for your URL: ')\n",
        "\n",
        "short_lnk(url, url_nm)"
      ],
      "metadata": {
        "colab": {
          "base_uri": "https://localhost:8080/"
        },
        "id": "sisyVV6-njk-",
        "outputId": "33d4280b-b0d6-4fc6-fcfb-acd384f7b629"
      },
      "execution_count": 21,
      "outputs": [
        {
          "output_type": "stream",
          "name": "stdout",
          "text": [
            "Enter the URL: https://www.amazon.in/dp/B0C4FLDT56/?_encoding=UTF8&pd_rd_w=qoI6W&content-id=amzn1.sym.bcdba563-6404-4299-9308-11ca5f40f96e&pf_rd_p=bcdba563-6404-4299-9308-11ca5f40f96e&pf_rd_r=6D9QWNSV50W18VPT5VEN&pd_rd_wg=g5e4C&pd_rd_r=a3eb3211-b8a6-4e60-a55c-c51fe4e3d4de&ref_=pd_gw_unk\n",
            "Enter the name for your URL: hula huka\n",
            "\n",
            "Title:  OnePlus Bullets Z2 Bluetooth Wireless in Ear Earphones with Mic, Bombastic Bass - 12.4 Mm Drivers, 10 Mins Charge - 20 Hrs Music, 30 Hrs Battery Life (Jazz Green) : Amazon.in: Electronics\n",
            "Link:  https://cutt.ly/hula-huka\n"
          ]
        }
      ]
    }
  ]
}